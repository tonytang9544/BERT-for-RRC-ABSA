{
 "cells": [
  {
   "cell_type": "code",
   "execution_count": 5,
   "metadata": {},
   "outputs": [
    {
     "name": "stdout",
     "output_type": "stream",
     "text": [
      "['This', 'is', 'a', 'great', 'value', 'for', 'the', 'money', '.', 'We', 'purchased', 'this', 'as', 'a', 'back', 'up', 'computer', 'after', 'our', 'more', 'expensive', 'HP', 'needed', 'to', 'be', 'repaired', '.', 'This', 'is', 'a', 'great', 'computer', '.', 'We', 'have', \"n't\", 'had', 'any', 'problems', 'with', 'it', 'at', 'all', '.', 'The', 'body', 'is', 'a', 'bit', 'cheaply', 'made', 'so', 'it', 'will', 'be', 'interesting', 'to', 'see', 'how', 'long', 'it', 'holds', 'up', '.', 'Overall', 'though', ',', 'for', 'the', 'money', 'spent', 'it', \"'\", 's', 'a', 'great', 'deal', '.']\n",
      "78\n"
     ]
    }
   ],
   "source": [
    "from nltk.tokenize import sent_tokenize, TweetTokenizer\n",
    "\n",
    "text = \"This is a great value for the money . We purchased this as a back up computer after our more expensive HP needed to be repaired . This is a great computer . We have n't had any problems with it at all . The body is a bit cheaply made so it will be interesting to see how long it holds up . Overall though , for the money spent it 's a great deal .\"\n",
    "\n",
    "tokens = TweetTokenizer().tokenize(text)\n",
    "print(tokens)\n",
    "print(len(tokens))"
   ]
  },
  {
   "cell_type": "code",
   "execution_count": 4,
   "metadata": {},
   "outputs": [
    {
     "name": "stdout",
     "output_type": "stream",
     "text": [
      "['This', 'is', 'a', 'great', 'value', 'for', 'the', 'money', '.', 'We', 'purchased', 'this', 'as', 'a', 'back', 'up', 'computer', 'after', 'our', 'more', 'expensive', 'HP', 'needed', 'to', 'be', 'repaired', '.', 'This', 'is', 'a', 'great', 'computer', '.', 'We', 'have', \"n't\", 'had', 'any', 'problems', 'with', 'it', 'at', 'all', '.', 'The', 'body', 'is', 'a', 'bit', 'cheaply', 'made', 'so', 'it', 'will', 'be', 'interesting', 'to', 'see', 'how', 'long', 'it', 'holds', 'up', '.', 'Overall', 'though', ',', 'for', 'the', 'money', 'spent', 'it', \"'s\", 'a', 'great', 'deal', '.']\n",
      "77\n"
     ]
    }
   ],
   "source": [
    "def is_whitespace(c):\n",
    "    if c == \" \" or c == \"\\t\" or c == \"\\r\" or c == \"\\n\" or ord(c) == 0x202F:\n",
    "        return True\n",
    "    return False\n",
    "\n",
    "paragraph_text = text\n",
    "doc_tokens = []\n",
    "char_to_word_offset = []\n",
    "prev_is_whitespace = True\n",
    "for c in paragraph_text:\n",
    "    if is_whitespace(c):\n",
    "        prev_is_whitespace = True\n",
    "    else:\n",
    "        if prev_is_whitespace:\n",
    "            doc_tokens.append(c)\n",
    "        else:\n",
    "            doc_tokens[-1] += c\n",
    "        prev_is_whitespace = False\n",
    "    char_to_word_offset.append(len(doc_tokens) - 1)\n",
    "\n",
    "print(doc_tokens)\n",
    "print(len(doc_tokens))"
   ]
  },
  {
   "cell_type": "code",
   "execution_count": 2,
   "metadata": {},
   "outputs": [],
   "source": [
    "from transformers import BertModel, BertTokenizer\n",
    "\n",
    "bert = BertModel.from_pretrained(\"bert-base-uncased\")\n",
    "tokenizer = BertTokenizer.from_pretrained(\"bert-base-uncased\")\n",
    "\n",
    "sentence = \"I like this weather. It is sunny!\"\n",
    "\n"
   ]
  }
 ],
 "metadata": {
  "kernelspec": {
   "display_name": "NLP",
   "language": "python",
   "name": "python3"
  },
  "language_info": {
   "codemirror_mode": {
    "name": "ipython",
    "version": 3
   },
   "file_extension": ".py",
   "mimetype": "text/x-python",
   "name": "python",
   "nbconvert_exporter": "python",
   "pygments_lexer": "ipython3",
   "version": "3.12.3"
  }
 },
 "nbformat": 4,
 "nbformat_minor": 2
}
